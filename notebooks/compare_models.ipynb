{
 "cells": [
  {
   "cell_type": "markdown",
   "source": [
    "# Compare language models"
   ],
   "metadata": {
    "collapsed": false
   }
  },
  {
   "cell_type": "code",
   "execution_count": 5,
   "outputs": [
    {
     "name": "stdout",
     "output_type": "stream",
     "text": [
      "\u001B[38;5;4mℹ Creating blank nlp object for language 'hu'\u001B[0m\r\n",
      "[2022-12-05 17:10:20,472] [INFO] Reading vectors from ../models/floret/huwiki/huwiki_vectors.floret\r\n",
      "50000it [00:02, 23440.79it/s]\r\n",
      "[2022-12-05 17:10:22,607] [INFO] Loaded vectors from ../models/floret/huwiki/huwiki_vectors.floret\r\n",
      "\u001B[38;5;2m✔ Successfully converted 50000 vectors\u001B[0m\r\n",
      "\u001B[38;5;2m✔ Saved nlp object with vectors to output directory. You can now use\r\n",
      "the path to it in your config as the 'vectors' setting in [initialize].\u001B[0m\r\n",
      "/home/zoltanvarju/PycharmProjects/mccLangMods/notebooks/huwiki_vectors\r\n"
     ]
    }
   ],
   "source": [
    "! spacy init vectors hu ../models/floret/huwiki/huwiki_vectors.floret huwiki_vectors --mode floret"
   ],
   "metadata": {
    "collapsed": false
   }
  },
  {
   "cell_type": "code",
   "execution_count": 30,
   "outputs": [],
   "source": [
    "import spacy\n",
    "nlp_fl = spacy.load(\"huwiki_vectors\")"
   ],
   "metadata": {
    "collapsed": false
   }
  },
  {
   "cell_type": "code",
   "execution_count": 11,
   "outputs": [
    {
     "data": {
      "text/plain": "array([ 8.24239075e-01, -7.28673935e-01,  4.38774787e-02, -1.24860831e-01,\n       -5.23187637e-01, -1.72309443e-01,  2.40655586e-01, -3.06464374e-01,\n       -7.17394531e-01, -3.49127203e-01, -5.29746532e-01,  8.02333415e-01,\n        1.31098115e+00, -3.98239464e-01, -6.32532477e-01,  1.16751999e-01,\n        4.84668434e-01, -3.61455157e-02, -6.62616372e-01,  1.70683220e-01,\n       -3.25491637e-01,  3.83652866e-01,  9.62398529e-01, -4.25931931e-01,\n        1.33419311e+00, -1.41712534e+00,  2.43041182e+00,  1.14985359e+00,\n        1.18059471e-01,  7.75056183e-01, -2.60567486e-01, -3.08878779e-01,\n       -1.53854394e+00, -1.44902170e+00, -2.46150300e-01,  6.65923297e-01,\n       -1.09913155e-01, -4.60133255e-01, -3.17279190e-01, -2.04153165e-01,\n       -5.89390874e-01, -2.83594906e-01,  7.69033968e-01, -6.95996881e-01,\n       -1.83776796e-01,  3.73280078e-01, -1.03438461e+00, -3.21880281e-01,\n       -1.49303818e+00,  1.47706461e+00, -1.59611809e+00,  7.02331305e-01,\n        5.31843543e-01,  8.44365507e-02, -4.83785003e-01,  1.72095463e-01,\n        8.67015541e-01,  4.38763767e-01,  2.16347504e+00,  6.72749400e-01,\n        2.16829747e-01,  6.06855333e-01,  8.96975577e-01, -1.72044039e-01,\n        2.39503837e+00,  4.89947259e-01, -4.54618067e-01, -8.73166919e-01,\n       -1.26127279e+00,  7.02400953e-02,  2.63209641e-01, -1.64047801e+00,\n       -6.16863251e-01,  1.37772346e+00,  8.68564427e-01, -4.38072860e-01,\n        3.03971291e-01, -5.60399830e-01, -6.29673064e-01, -1.51614273e+00,\n       -1.50029695e+00,  4.87349719e-01, -2.60045111e-01, -1.75132799e+00,\n        9.95186090e-01, -3.01124692e-01, -1.07402670e+00, -4.22998130e-01,\n       -1.12307973e-01,  5.34767687e-01, -5.88983953e-01, -4.67775404e-01,\n       -8.25307131e-01,  2.90847510e-01, -9.40749824e-01,  1.00478840e+00,\n       -7.73033559e-01, -1.94063172e-01,  2.54982662e+00, -6.74887180e-01,\n        1.41149235e+00, -9.99095857e-01, -4.35317397e-01,  1.28721058e+00,\n        2.12744027e-01,  1.69393766e+00,  1.29762650e+00, -6.21343493e-01,\n        1.02276731e+00,  1.27082372e+00, -2.76875615e-01,  9.56647038e-01,\n       -7.87807286e-01, -8.78192663e-01,  4.65964168e-01,  6.11091740e-02,\n        8.47809538e-02, -2.19230995e-01, -7.84613788e-01, -6.82326317e-01,\n        7.61730015e-01, -1.67750728e+00,  2.15759277e+00,  7.35427320e-01,\n       -8.33462253e-02,  3.29117447e-01,  5.51821113e-01, -1.74597645e+00,\n       -9.55909550e-01,  4.03442204e-01, -5.19101501e-01, -2.57027674e+00,\n       -1.37080967e+00,  8.39629769e-01, -1.33280551e+00, -6.15877390e-01,\n       -1.43871593e+00,  1.27415621e+00, -1.48567343e+00,  5.07052481e-01,\n       -1.44465971e+00, -7.66621232e-01,  9.47082698e-01, -6.17620707e-01,\n        2.37617448e-01,  6.71031117e-01, -8.20971847e-01, -7.62460232e-01,\n       -4.19359535e-01,  5.13688624e-01,  2.62768954e-01,  1.31122041e+00,\n       -1.24789953e+00, -1.55117309e+00, -5.54221153e-01, -6.55185103e-01,\n       -1.32506120e+00,  1.64026487e+00, -5.68163097e-01, -4.25003260e-01,\n       -7.10149288e-01,  1.68718719e+00, -4.05226678e-01,  6.08480453e-01,\n       -8.89521420e-01, -5.65518737e-01,  2.55720168e-01, -1.71974313e+00,\n        4.34829682e-01, -2.57862329e-01,  9.91260290e-01,  4.08698708e-01,\n       -3.85760248e-01, -4.74437140e-02,  4.69708830e-01, -4.88147020e-01,\n       -1.03015745e+00, -3.45140815e-01,  8.75430033e-02,  1.26708472e+00,\n        1.43701696e+00,  9.47446525e-01, -9.40110683e-02, -8.78466010e-01,\n        1.03878891e+00,  4.48284954e-01,  4.26531017e-01, -1.13388693e+00,\n        8.58292639e-01,  6.11752927e-01, -1.21552564e-01, -1.43156302e+00,\n       -2.36120164e-01,  5.35382986e-01,  4.00794059e-01, -1.05897045e+00,\n       -4.91930783e-01, -8.43863964e-01,  1.72952607e-01, -2.29514576e-02,\n        1.11352533e-01,  6.55023456e-01, -9.45448339e-01, -1.82588995e+00,\n        1.07614195e+00,  7.32928991e-01,  8.50776076e-01,  8.71312141e-01,\n        4.01520997e-01, -1.84301287e-04, -2.12334585e+00, -6.72111511e-02,\n       -1.07847929e+00,  1.78260565e+00, -8.37842882e-01, -4.30015653e-01,\n        1.06196582e+00, -2.26840340e-02,  1.74835086e-01,  4.60063815e-01,\n       -4.23169136e-01, -1.09396553e+00, -5.13171911e-01, -1.17782235e+00,\n        3.09155673e-01,  6.10941052e-01, -5.05251944e-01, -1.60430348e+00,\n        3.20578337e-01, -7.44374454e-01, -1.95038207e-02, -1.12807548e+00,\n       -1.71705818e+00,  1.24580395e+00,  1.63697198e-01,  8.23990822e-01,\n        1.66436267e+00, -5.97618461e-01, -1.43135393e+00, -6.10018432e-01,\n       -5.62722236e-03, -3.68974209e-01, -1.03925712e-01,  8.17092299e-01,\n       -9.23608482e-01,  9.83536482e-01,  1.46765697e+00, -2.17246747e+00,\n        1.20315850e+00,  1.42666781e+00,  8.64363670e-01, -2.29683921e-01,\n       -1.40349817e+00,  3.02519381e-01, -5.09969927e-02,  8.59613061e-01,\n       -1.68187988e+00,  1.66470432e+00, -8.55005085e-01,  1.66318989e+00,\n        9.15965438e-01, -7.60380179e-02, -5.38943231e-01, -7.72267818e-01,\n        2.82692611e-01,  5.30253470e-01,  8.19509849e-02, -4.15028989e-01,\n        1.64373708e+00,  9.73976135e-01, -1.20326757e+00, -1.91789913e+00,\n       -2.00459719e+00,  5.33495605e-01,  2.09727335e+00,  2.88557857e-01,\n        1.58640516e+00,  6.61851108e-01, -6.65126622e-01, -7.18733788e-01,\n        7.64383197e-01,  4.33441997e-01, -8.35392118e-01, -6.02529585e-01,\n        2.02427968e-01, -5.47388569e-03,  8.63598049e-01, -1.37669683e+00,\n        4.31026742e-02,  8.69163871e-01, -3.04429591e-01,  7.34223008e-01,\n        9.26509142e-01, -1.25425887e+00, -1.23093319e+00, -1.30331886e+00,\n        7.10032046e-01,  9.51187730e-01, -3.01606387e-01,  4.94394079e-02],\n      dtype=float32)"
     },
     "execution_count": 11,
     "metadata": {},
     "output_type": "execute_result"
    }
   ],
   "source": [
    "wd1 = nlp_fl.vocab[\"Magyarország\"]\n",
    "wd1.vector"
   ],
   "metadata": {
    "collapsed": false
   }
  },
  {
   "cell_type": "code",
   "execution_count": 13,
   "outputs": [
    {
     "data": {
      "text/plain": "False"
     },
     "execution_count": 13,
     "metadata": {},
     "output_type": "execute_result"
    }
   ],
   "source": [
    "wd2 = nlp_fl.vocab[\"inkomenzurábilitás\"]\n",
    "wd2.is_oov"
   ],
   "metadata": {
    "collapsed": false
   }
  },
  {
   "cell_type": "code",
   "execution_count": 20,
   "outputs": [
    {
     "data": {
      "text/plain": "False"
     },
     "execution_count": 20,
     "metadata": {},
     "output_type": "execute_result"
    }
   ],
   "source": [
    "wd3 = nlp_fl.vocab[\"momorosomag\"]\n",
    "wd3.is_oov"
   ],
   "metadata": {
    "collapsed": false
   }
  },
  {
   "cell_type": "code",
   "execution_count": 26,
   "outputs": [],
   "source": [
    "wd4 = nlp_fl.vocab[\"Horvátország\"]\n",
    "wd5 = nlp_fl.vocab[\"Románia\"]\n",
    "wd6 = nlp_fl.vocab[\"Bulgária\"]"
   ],
   "metadata": {
    "collapsed": false
   }
  },
  {
   "cell_type": "code",
   "execution_count": 21,
   "outputs": [
    {
     "data": {
      "text/plain": "1.0"
     },
     "execution_count": 21,
     "metadata": {},
     "output_type": "execute_result"
    }
   ],
   "source": [
    "wd1.similarity(wd1)"
   ],
   "metadata": {
    "collapsed": false
   }
  },
  {
   "cell_type": "code",
   "execution_count": 24,
   "outputs": [
    {
     "data": {
      "text/plain": "0.6292034387588501"
     },
     "execution_count": 24,
     "metadata": {},
     "output_type": "execute_result"
    }
   ],
   "source": [
    "wd1.similarity(wd4)"
   ],
   "metadata": {
    "collapsed": false
   }
  },
  {
   "cell_type": "code",
   "execution_count": 25,
   "outputs": [
    {
     "data": {
      "text/plain": "0.5919356346130371"
     },
     "execution_count": 25,
     "metadata": {},
     "output_type": "execute_result"
    }
   ],
   "source": [
    "wd1.similarity(wd5)"
   ],
   "metadata": {
    "collapsed": false
   }
  },
  {
   "cell_type": "code",
   "execution_count": 27,
   "outputs": [
    {
     "data": {
      "text/plain": "0.5964727401733398"
     },
     "execution_count": 27,
     "metadata": {},
     "output_type": "execute_result"
    }
   ],
   "source": [
    "wd5.similarity(wd6)"
   ],
   "metadata": {
    "collapsed": false
   }
  },
  {
   "cell_type": "code",
   "execution_count": 31,
   "outputs": [
    {
     "ename": "AttributeError",
     "evalue": "'Hungarian' object has no attribute 'get_nearest_neighbors'",
     "output_type": "error",
     "traceback": [
      "\u001B[0;31m---------------------------------------------------------------------------\u001B[0m",
      "\u001B[0;31mAttributeError\u001B[0m                            Traceback (most recent call last)",
      "Cell \u001B[0;32mIn[31], line 1\u001B[0m\n\u001B[0;32m----> 1\u001B[0m \u001B[43mnlp_fl\u001B[49m\u001B[38;5;241;43m.\u001B[39;49m\u001B[43mget_nearest_neighbors\u001B[49m(\u001B[38;5;124m\"\u001B[39m\u001B[38;5;124munivercities\u001B[39m\u001B[38;5;124m\"\u001B[39m)\n",
      "\u001B[0;31mAttributeError\u001B[0m: 'Hungarian' object has no attribute 'get_nearest_neighbors'"
     ]
    }
   ],
   "source": [
    "nlp_fl.get_nearest_neighbors(\"univercities\")"
   ],
   "metadata": {
    "collapsed": false
   }
  },
  {
   "cell_type": "code",
   "execution_count": 34,
   "outputs": [],
   "source": [
    "import floret\n",
    "model_fl = floret.load_model(\"../models/floret/huwiki/huwiki_vectors.bin\")"
   ],
   "metadata": {
    "collapsed": false
   }
  },
  {
   "cell_type": "code",
   "execution_count": 36,
   "outputs": [
    {
     "data": {
      "text/plain": "['<Magyarorszag>',\n '<Mag',\n '<Magy',\n 'Magy',\n 'Magya',\n 'agya',\n 'agyar',\n 'gyar',\n 'gyaro',\n 'yaro',\n 'yaror',\n 'aror',\n 'arors',\n 'rors',\n 'rorsz',\n 'orsz',\n 'orsza',\n 'rsza',\n 'rszag',\n 'szag',\n 'szag>',\n 'zag>']"
     },
     "execution_count": 36,
     "metadata": {},
     "output_type": "execute_result"
    }
   ],
   "source": [
    "strings, indices = model_fl.get_subwords(\"Magyarorszag\")\n",
    "strings"
   ],
   "metadata": {
    "collapsed": false
   }
  },
  {
   "cell_type": "code",
   "execution_count": 37,
   "outputs": [
    {
     "data": {
      "text/plain": "[(0.7813050150871277, 'Magyarországé'),\n (0.7762925624847412, 'Magyarországön'),\n (0.7649583220481873, 'Magyarországa'),\n (0.7624815702438354, 'Magyarországig'),\n (0.7506111264228821, 'Magyarországi'),\n (0.75035160779953, 'Magyarországnyi'),\n (0.7415648698806763, 'Magyarországának'),\n (0.736070990562439, 'Délmagyarországi'),\n (0.7340536713600159, 'Délmagyarország'),\n (0.7330708503723145, 'Magyarországnál')]"
     },
     "execution_count": 37,
     "metadata": {},
     "output_type": "execute_result"
    }
   ],
   "source": [
    "model_fl.get_nearest_neighbors(\"Magyarorszag\")"
   ],
   "metadata": {
    "collapsed": false
   }
  },
  {
   "cell_type": "code",
   "execution_count": null,
   "outputs": [],
   "source": [
    "model_oscar = floret.load_model(\"../models/floret/oscar/oscar_vectors.bin\")"
   ],
   "metadata": {
    "collapsed": false,
    "pycharm": {
     "is_executing": true
    }
   }
  }
 ],
 "metadata": {
  "kernelspec": {
   "display_name": "Python 3",
   "language": "python",
   "name": "python3"
  },
  "language_info": {
   "codemirror_mode": {
    "name": "ipython",
    "version": 2
   },
   "file_extension": ".py",
   "mimetype": "text/x-python",
   "name": "python",
   "nbconvert_exporter": "python",
   "pygments_lexer": "ipython2",
   "version": "2.7.6"
  }
 },
 "nbformat": 4,
 "nbformat_minor": 0
}
