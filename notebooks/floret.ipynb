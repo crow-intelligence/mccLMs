{
 "cells": [
  {
   "cell_type": "markdown",
   "metadata": {},
   "source": [
    "# Floret\n",
    "_*WARNING*_: Uncased model.\n",
    "[![Open In Colab](https://colab.research.google.com/assets/colab-badge.svg)](https://github.com/crow-intelligence/mccLMs/blob/main/notebooks/floret.ipynb)\n"
   ]
  },
  {
   "cell_type": "code",
   "execution_count": 81,
   "metadata": {},
   "outputs": [],
   "source": [
    "import floret\n",
    "import numpy as np\n",
    "from scipy.spatial.distance import cosine"
   ]
  },
  {
   "cell_type": "markdown",
   "metadata": {},
   "source": [
    "## Wikipedia model"
   ]
  },
  {
   "cell_type": "code",
   "execution_count": 2,
   "metadata": {},
   "outputs": [],
   "source": [
    "model_fl = floret.load_model(\"../models/floret/huwiki/huwiki_uncased_vectors.bin\")"
   ]
  },
  {
   "cell_type": "markdown",
   "source": [
    "## Subwords"
   ],
   "metadata": {
    "collapsed": false
   }
  },
  {
   "cell_type": "code",
   "execution_count": 99,
   "outputs": [
    {
     "name": "stdout",
     "output_type": "stream",
     "text": [
      "<magyarország>\n",
      "<mag\n",
      "<magy\n",
      "magy\n",
      "magya\n",
      "agya\n",
      "agyar\n",
      "gyar\n",
      "gyaro\n",
      "yaro\n",
      "yaror\n",
      "aror\n",
      "arors\n",
      "rors\n",
      "rorsz\n",
      "orsz\n",
      "orszá\n",
      "rszá\n",
      "rszág\n",
      "szág\n",
      "szág>\n",
      "zág>\n"
     ]
    }
   ],
   "source": [
    "strs, indices = model_fl.get_subwords(\"magyarország\")\n",
    "for e in strs:\n",
    "    print(e)"
   ],
   "metadata": {
    "collapsed": false
   }
  },
  {
   "cell_type": "code",
   "execution_count": 102,
   "outputs": [
    {
     "data": {
      "text/plain": "[(0.7667451500892639, 'football'),\n (0.7650576233863831, 'toppfotball'),\n (0.7264081239700317, 'futball'),\n (0.7149392366409302, 'minifootball'),\n (0.7134540677070618, 'standfutball'),\n (0.7123640179634094, 'fotballklubb'),\n (0.7034754753112793, 'fotbal'),\n (0.7007901668548584, 'klubfutball'),\n (0.6949660181999207, 'netball'),\n (0.6899610757827759, 'footballt')]"
     },
     "execution_count": 102,
     "metadata": {},
     "output_type": "execute_result"
    }
   ],
   "source": [
    "model_fl.get_nearest_neighbors(\"fotball\")"
   ],
   "metadata": {
    "collapsed": false
   }
  },
  {
   "cell_type": "markdown",
   "source": [
    "## Cosine similarity"
   ],
   "metadata": {
    "collapsed": false
   }
  },
  {
   "cell_type": "code",
   "execution_count": 82,
   "outputs": [
    {
     "name": "stdout",
     "output_type": "stream",
     "text": [
      "0.7183489501476288 0.656480073928833 0.6887237131595612\n"
     ]
    }
   ],
   "source": [
    "wd1 = model_fl.get_word_vector(\"gazdag\")\n",
    "wd2 = model_fl.get_word_vector(\"okos\")\n",
    "wd3 = model_fl.get_word_vector(\"szerencsés\")\n",
    "dist1 = cosine(wd1, wd2)\n",
    "dist2 = cosine(wd1, wd3)\n",
    "dist3 = cosine(wd2, wd3)\n",
    "print(dist1, dist2, dist3)"
   ],
   "metadata": {
    "collapsed": false
   }
  },
  {
   "cell_type": "code",
   "execution_count": 84,
   "outputs": [
    {
     "name": "stdout",
     "output_type": "stream",
     "text": [
      "0.8404743820428848 0.7648779898881912 0.4150010943412781\n"
     ]
    }
   ],
   "source": [
    "wd1 = model_fl.get_word_vector(\"tudós\")\n",
    "wd2 = model_fl.get_word_vector(\"nő\")\n",
    "wd3 = model_fl.get_word_vector(\"férfi\")\n",
    "dist1 = cosine(wd1, wd2)\n",
    "dist2 = cosine(wd1, wd3)\n",
    "dist3 = cosine(wd2, wd3)\n",
    "print(dist1, dist2, dist3)"
   ],
   "metadata": {
    "collapsed": false
   }
  },
  {
   "cell_type": "code",
   "execution_count": 85,
   "outputs": [
    {
     "name": "stdout",
     "output_type": "stream",
     "text": [
      "0.9315904974937439 0.8203792870044708\n"
     ]
    }
   ],
   "source": [
    "wd1 = model_fl.get_word_vector(\"politikus\")\n",
    "wd2 = model_fl.get_word_vector(\"nő\")\n",
    "wd3 = model_fl.get_word_vector(\"férfi\")\n",
    "dist1 = cosine(wd1, wd2)\n",
    "dist2 = cosine(wd1, wd3)\n",
    "print(dist1, dist2)"
   ],
   "metadata": {
    "collapsed": false
   }
  },
  {
   "cell_type": "code",
   "execution_count": 86,
   "outputs": [
    {
     "name": "stdout",
     "output_type": "stream",
     "text": [
      "0.9092197865247726 0.821922779083252\n"
     ]
    }
   ],
   "source": [
    "wd1 = model_fl.get_word_vector(\"védőnő\")\n",
    "wd2 = model_fl.get_word_vector(\"nő\")\n",
    "wd3 = model_fl.get_word_vector(\"férfi\")\n",
    "dist1 = cosine(wd1, wd2)\n",
    "dist2 = cosine(wd1, wd3)\n",
    "print(dist1, dist2)"
   ],
   "metadata": {
    "collapsed": false
   }
  },
  {
   "cell_type": "code",
   "execution_count": 87,
   "outputs": [
    {
     "name": "stdout",
     "output_type": "stream",
     "text": [
      "0.6209354400634766 0.3685557246208191 0.48633867502212524 0.3778863549232483 0.3875797390937805 0.370231032371521\n"
     ]
    }
   ],
   "source": [
    "wd1 = model_fl.get_word_vector(\"kolozsvár\")\n",
    "wd2 = model_fl.get_word_vector(\"magyarország\")\n",
    "wd3 = model_fl.get_word_vector(\"erdély\")\n",
    "wd4 = model_fl.get_word_vector(\"románia\")\n",
    "dist1 = cosine(wd1, wd2)\n",
    "dist2 = cosine(wd1, wd3)\n",
    "dist3 = cosine(wd1, wd4)\n",
    "dist4 = cosine(wd2, wd3)\n",
    "dist5 = cosine(wd2, wd4)\n",
    "dist6 = cosine(wd3, wd4)\n",
    "print(dist1, dist2, dist3, dist4, dist5, dist6)"
   ],
   "metadata": {
    "collapsed": false
   }
  },
  {
   "cell_type": "markdown",
   "metadata": {},
   "source": [
    "## Most similar items\n",
    "floret -> get_nearest_neighbors"
   ]
  },
  {
   "cell_type": "code",
   "execution_count": 88,
   "metadata": {},
   "outputs": [
    {
     "data": {
      "text/plain": "[(0.9321658611297607, 'emagyarország'),\n (0.9142770767211914, 'nagymagyarország'),\n (0.8996962904930115, 'magyarországa'),\n (0.8898014426231384, 'délmagyarország'),\n (0.8809595704078674, 'agyarország'),\n (0.878608763217926, 'magyarországön'),\n (0.8765327334403992, 'felsőmagyarország'),\n (0.8746036291122437, 'magyarországé'),\n (0.8619996905326843, 'csonkamagyarország'),\n (0.8592442870140076, 'magyarországnyi'),\n (0.8488444685935974, 'kertmagyarország'),\n (0.8455908894538879, 'magyarországrúl'),\n (0.8417787551879883, 'magyarországán'),\n (0.8378133177757263, 'magyarországnál'),\n (0.8333405256271362, 'magyarországnak'),\n (0.827196478843689, 'magyarországgal'),\n (0.8236911296844482, 'magyarországig'),\n (0.8208615183830261, 'magyarországának'),\n (0.8195996284484863, 'magyarországénak'),\n (0.8098699450492859, 'magyarországi'),\n (0.8066814541816711, 'magyarországiak'),\n (0.8057738542556763, 'magyarországát'),\n (0.7987256050109863, 'magyarországinál'),\n (0.7985337376594543, 'magyarországot'),\n (0.78892582654953, 'biharország'),\n (0.7830296158790588, 'délmagyarországnak'),\n (0.7800713181495667, 'magyarországért'),\n (0.7765437960624695, 'erdélyország'),\n (0.7757771611213684, 'agrárország'),\n (0.7744948267936707, 'magyarországtól')]"
     },
     "execution_count": 88,
     "metadata": {},
     "output_type": "execute_result"
    }
   ],
   "source": [
    "model_fl.get_nearest_neighbors(\"magyarország\", 30)"
   ]
  },
  {
   "cell_type": "code",
   "execution_count": 89,
   "outputs": [
    {
     "data": {
      "text/plain": "[(0.5951589345932007, 'lány'),\n (0.5849990248680115, 'férfi'),\n (0.5518611073493958, 'férfiu'),\n (0.5419652462005615, 'nőt'),\n (0.5374640226364136, 'férfiú'),\n (0.5334202647209167, 'herlány'),\n (0.5262861847877502, 'férfiút'),\n (0.5211368203163147, 'férfit'),\n (0.5157021880149841, 'férfivá'),\n (0.5143219232559204, 'férfitest'),\n (0.513146698474884, 'hölgy'),\n (0.5017785429954529, 'férfin'),\n (0.49426209926605225, 'férfiúvá'),\n (0.4940442442893982, 'férfifej'),\n (0.48553749918937683, 'férfiarc'),\n (0.4804524779319763, 'asszony'),\n (0.48044154047966003, 'kislány'),\n (0.4772627651691437, 'férfiaké'),\n (0.47473078966140747, 'férfia'),\n (0.47430717945098877, 'nőnek'),\n (0.4700895845890045, 'férfiba'),\n (0.46995487809181213, 'férfiben'),\n (0.469592422246933, 'férfifaló'),\n (0.4692791700363159, 'férfiember'),\n (0.46891075372695923, 'férfiúi'),\n (0.46396175026893616, 'férfibe'),\n (0.463356077671051, 'férfimunka'),\n (0.46202805638313293, 'férfiatlan'),\n (0.46022218465805054, 'cselédlány'),\n (0.4601556658744812, 'férfimeddőség')]"
     },
     "execution_count": 89,
     "metadata": {},
     "output_type": "execute_result"
    }
   ],
   "source": [
    "model_fl.get_nearest_neighbors(\"nő\", 30)"
   ],
   "metadata": {
    "collapsed": false
   }
  },
  {
   "cell_type": "code",
   "execution_count": 90,
   "outputs": [
    {
     "data": {
      "text/plain": "[(0.8188580274581909, 'férfiu'),\n (0.7934286594390869, 'férfiú'),\n (0.7793344855308533, 'férfia'),\n (0.7755305171012878, 'férfivá'),\n (0.7723703384399414, 'férfin'),\n (0.7595025897026062, 'férfiút'),\n (0.7591314911842346, 'férfit'),\n (0.7576451897621155, 'férfié'),\n (0.7575212121009827, 'férfifaló'),\n (0.750507652759552, 'férfiba'),\n (0.7498976588249207, 'férfiben'),\n (0.7496967911720276, 'férfiúvá'),\n (0.7429751753807068, 'férfiúi'),\n (0.7423532605171204, 'férfiarc'),\n (0.7400548458099365, 'férfivé'),\n (0.7386815547943115, 'férfire'),\n (0.7374735474586487, 'férfiember'),\n (0.7354523539543152, 'férfibe'),\n (0.7345567941665649, 'férfiág'),\n (0.7315958738327026, 'férfitánc'),\n (0.7267171144485474, 'férfira'),\n (0.7252646088600159, 'férfifej'),\n (0.7251207828521729, 'férfikar'),\n (0.7191739678382874, 'férfiági'),\n (0.717429518699646, 'férfiatlan'),\n (0.7158359885215759, 'férfiban'),\n (0.7117412686347961, 'férfiaké'),\n (0.7088882923126221, 'férfierő'),\n (0.7054469585418701, 'férfiruha'),\n (0.7048571705818176, 'férfiteniszező')]"
     },
     "execution_count": 90,
     "metadata": {},
     "output_type": "execute_result"
    }
   ],
   "source": [
    "model_fl.get_nearest_neighbors(\"férfi\", 30)"
   ],
   "metadata": {
    "collapsed": false
   }
  },
  {
   "cell_type": "code",
   "execution_count": 91,
   "outputs": [
    {
     "data": {
      "text/plain": "[(0.9042288661003113, 'programozói'),\n (0.8990040421485901, 'programoz'),\n (0.8959377408027649, 'programozók'),\n (0.8858540058135986, 'programozót'),\n (0.8613919019699097, 'programozva'),\n (0.8500304222106934, 'programozója'),\n (0.8487564325332642, 'programozottan'),\n (0.8487508893013, 'programozású'),\n (0.8461763858795166, 'programozza'),\n (0.8451687693595886, 'programozott'),\n (0.8324084281921387, 'programozóként'),\n (0.8294630646705627, 'programozónak'),\n (0.8185389637947083, 'programozta'),\n (0.8179711103439331, 'programozókat'),\n (0.8144509792327881, 'beprogramozott'),\n (0.8130249977111816, 'programozás'),\n (0.8078427314758301, 'programozható'),\n (0.8071733117103577, 'programozóinak'),\n (0.8033232688903809, 'mikroprogramozott'),\n (0.7994558215141296, 'programozzák'),\n (0.7941249012947083, 'programozást'),\n (0.7925670742988586, 'multiprogramozott'),\n (0.7918410301208496, 'beprogramozva'),\n (0.7896324396133423, 'programozásban'),\n (0.7879800200462341, 'átprogramozott'),\n (0.785943329334259, 'programozásuk'),\n (0.7857154607772827, 'programozással'),\n (0.7846681475639343, 'programozási'),\n (0.7834164500236511, 'programozótól'),\n (0.7826042175292969, 'átprogramozza'),\n (0.7818623781204224, 'programozóknak'),\n (0.7805129885673523, 'programozásnál'),\n (0.7788397669792175, 'programon'),\n (0.7731781005859375, 'programozása'),\n (0.771029531955719, 'programvezérlő'),\n (0.7701979279518127, 'programkódok'),\n (0.7701393365859985, 'programozhatók'),\n (0.7687996625900269, 'programozni'),\n (0.7657186388969421, 'beprogramozta'),\n (0.7652560472488403, 'programkódban'),\n (0.7648947834968567, 'programozókból'),\n (0.7646362781524658, 'programkezelő'),\n (0.7644723057746887, 'programkód'),\n (0.7636101841926575, 'programklóz'),\n (0.7631163001060486, 'átprogramozzák'),\n (0.7576833963394165, 'programozásból'),\n (0.754485547542572, 'programozásról'),\n (0.7538982629776001, 'programtervező'),\n (0.7535964250564575, 'programozásra'),\n (0.7520099878311157, 'programozhatóak')]"
     },
     "execution_count": 91,
     "metadata": {},
     "output_type": "execute_result"
    }
   ],
   "source": [
    "model_fl.get_nearest_neighbors(\"programozó\", 50)"
   ],
   "metadata": {
    "collapsed": false
   }
  },
  {
   "cell_type": "code",
   "execution_count": 79,
   "outputs": [
    {
     "data": {
      "text/plain": "[(0.8882280588150024, 'hercegh'),\n (0.874150276184082, 'hercegé'),\n (0.8634095788002014, 'hercege'),\n (0.858784019947052, 'herceget'),\n (0.8575375080108643, 'hercegig'),\n (0.8575059771537781, 'hercegei'),\n (0.8570616245269775, 'hercegen'),\n (0.8555285334587097, 'hercegmő'),\n (0.854086697101593, 'hercegre'),\n (0.8532910943031311, 'hercegi')]"
     },
     "execution_count": 79,
     "metadata": {},
     "output_type": "execute_result"
    }
   ],
   "source": [
    "model_fl.get_nearest_neighbors(\"herceg\")"
   ],
   "metadata": {
    "collapsed": false
   }
  },
  {
   "cell_type": "markdown",
   "source": [
    "## Analogies"
   ],
   "metadata": {
    "collapsed": false
   }
  },
  {
   "cell_type": "code",
   "execution_count": 7,
   "metadata": {},
   "outputs": [
    {
     "data": {
      "text/plain": "[(0.7807050347328186, 'poroszország'),\n (0.7602542042732239, 'szászország'),\n (0.7462234497070312, 'németországa'),\n (0.7327939867973328, 'németországnak'),\n (0.7322470545768738, 'alország'),\n (0.7219493389129639, 'németországgal'),\n (0.7162397503852844, 'tótország'),\n (0.7116791009902954, 'lengyelország'),\n (0.7059935927391052, 'németországnál'),\n (0.7050385475158691, 'oroszország')]"
     },
     "execution_count": 7,
     "metadata": {},
     "output_type": "execute_result"
    }
   ],
   "source": [
    "model_fl.get_analogies(\"magyarország\", \"budapest\", \"németország\")"
   ]
  },
  {
   "cell_type": "code",
   "execution_count": 54,
   "outputs": [
    {
     "data": {
      "text/plain": "[(0.5454769134521484, 'családanya'),\n (0.5322418212890625, 'szülőanya'),\n (0.5306721925735474, 'édesanya'),\n (0.5222036242485046, 'gyermektelenség'),\n (0.5140584111213684, 'mostohaanya'),\n (0.5075150728225708, 'nagyanya'),\n (0.5068705677986145, 'gyermektelen'),\n (0.5032057166099548, 'anyain'),\n (0.5019899606704712, 'szülők'),\n (0.4955890476703644, 'családapa')]"
     },
     "execution_count": 54,
     "metadata": {},
     "output_type": "execute_result"
    }
   ],
   "source": [
    "model_fl.get_analogies(\"anya\", \"anyu\", \"apa\")"
   ],
   "metadata": {
    "collapsed": false
   }
  },
  {
   "cell_type": "code",
   "execution_count": 56,
   "outputs": [
    {
     "data": {
      "text/plain": "[(0.6347714066505432, 'kutyadoki'),\n (0.6322165131568909, 'macskáé'),\n (0.6237533688545227, 'őrkutya'),\n (0.6237177848815918, 'macskásy'),\n (0.6235529780387878, 'kutyabőr'),\n (0.6199608445167542, 'macskás'),\n (0.599362850189209, 'kölyökkutya'),\n (0.59395831823349, 'macskássi'),\n (0.593346357345581, 'vadmacska'),\n (0.5869258046150208, 'űrkutya')]"
     },
     "execution_count": 56,
     "metadata": {},
     "output_type": "execute_result"
    }
   ],
   "source": [
    "model_fl.get_analogies(\"kutya\", \"állat\", \"macska\")"
   ],
   "metadata": {
    "collapsed": false
   }
  },
  {
   "cell_type": "code",
   "execution_count": 58,
   "outputs": [
    {
     "data": {
      "text/plain": "[(0.7047445178031921, 'szomorúság'),\n (0.6442056894302368, 'szomorúsága'),\n (0.6332940459251404, 'szomorúbb'),\n (0.6259691715240479, 'szomor'),\n (0.6238608360290527, 'szomorúvá'),\n (0.6224784255027771, 'szomorúak'),\n (0.6094853281974792, 'szomorúságra'),\n (0.5972095727920532, 'szomorkás'),\n (0.5968648195266724, 'szomoru'),\n (0.5955548882484436, 'szomorúan')]"
     },
     "execution_count": 58,
     "metadata": {},
     "output_type": "execute_result"
    }
   ],
   "source": [
    "model_fl.get_analogies(\"szegény\", \"gazdag\", \"szomorú\")"
   ],
   "metadata": {
    "collapsed": false
   }
  },
  {
   "cell_type": "markdown",
   "source": [
    "## Odd one out"
   ],
   "metadata": {
    "collapsed": false
   }
  },
  {
   "cell_type": "code",
   "execution_count": 11,
   "outputs": [],
   "source": [
    "wd1 = model_fl.get_word_vector(\"magyarország\")\n",
    "wd2 = model_fl.get_word_vector(\"románia\")\n",
    "wd3 = model_fl.get_word_vector(\"írország\")\n",
    "wd4 = model_fl.get_word_vector(\"kolumbia\")"
   ],
   "metadata": {
    "collapsed": false
   }
  },
  {
   "cell_type": "code",
   "execution_count": 12,
   "outputs": [
    {
     "name": "stdout",
     "output_type": "stream",
     "text": [
      "3\n"
     ]
    }
   ],
   "source": [
    "mean_v = np.mean(np.asarray([wd1, wd2, wd3, wd4]), axis=0)\n",
    "dists = [abs(cosine(e, mean_v)) for e in [wd1, wd2, wd3, wd4]]\n",
    "mdist = max(dists)\n",
    "midx = dists.index(mdist)\n",
    "print(midx) # -> 3, Kolumbia"
   ],
   "metadata": {
    "collapsed": false
   }
  },
  {
   "cell_type": "code",
   "execution_count": 75,
   "outputs": [],
   "source": [
    "wd1 = model_fl.get_word_vector(\"kutya\")\n",
    "wd2 = model_fl.get_word_vector(\"macska\")\n",
    "wd3 = model_fl.get_word_vector(\"hóvirág\")\n",
    "wd4 = model_fl.get_word_vector(\"egér\")"
   ],
   "metadata": {
    "collapsed": false
   }
  },
  {
   "cell_type": "code",
   "execution_count": 93,
   "outputs": [
    {
     "name": "stdout",
     "output_type": "stream",
     "text": [
      "0\n"
     ]
    }
   ],
   "source": [
    "mean_v = np.mean(np.asarray([wd1, wd2, wd3, wd4]), axis=0)\n",
    "dists = [abs(cosine(e, mean_v)) for e in [wd1, wd2, wd3, wd4]]\n",
    "mdist = max(dists)\n",
    "midx = dists.index(mdist)\n",
    "print(midx) # -> 2, hóvirág"
   ],
   "metadata": {
    "collapsed": false
   }
  }
 ],
 "metadata": {
  "kernelspec": {
   "display_name": "Python 3 (ipykernel)",
   "language": "python",
   "name": "python3"
  },
  "language_info": {
   "codemirror_mode": {
    "name": "ipython",
    "version": 3
   },
   "file_extension": ".py",
   "mimetype": "text/x-python",
   "name": "python",
   "nbconvert_exporter": "python",
   "pygments_lexer": "ipython3",
   "version": "3.10.6"
  }
 },
 "nbformat": 4,
 "nbformat_minor": 1
}
