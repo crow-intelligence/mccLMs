{
 "cells": [
  {
   "cell_type": "markdown",
   "metadata": {},
   "source": [
    "# Comparing various models"
   ]
  },
  {
   "cell_type": "code",
   "execution_count": 11,
   "metadata": {},
   "outputs": [],
   "source": [
    "import floret\n",
    "import numpy as np\n",
    "from scipy.spatial.distance import cosine"
   ]
  },
  {
   "cell_type": "markdown",
   "metadata": {},
   "source": [
    "## Wikipedia model"
   ]
  },
  {
   "cell_type": "code",
   "execution_count": 2,
   "metadata": {},
   "outputs": [],
   "source": [
    "model_fl = floret.load_model(\"../models/floret/huwiki/huwiki_vectors.bin\")"
   ]
  },
  {
   "cell_type": "markdown",
   "source": [
    "## Cosine similarity"
   ],
   "metadata": {
    "collapsed": false
   }
  },
  {
   "cell_type": "code",
   "execution_count": 19,
   "outputs": [
    {
     "name": "stdout",
     "output_type": "stream",
     "text": [
      "0.507045179605484 0.5562061369419098 0.45666956901550293\n"
     ]
    }
   ],
   "source": [
    "wd1 = model_fl.get_word_vector(\"Inkommenzurábilitás\")\n",
    "wd2 = model_fl.get_word_vector(\"Hermeneutika\")\n",
    "wd3 = model_fl.get_word_vector(\"Filozófia\")\n",
    "sim1 = cosine(wd1, wd2)\n",
    "sim2 = cosine(wd1, wd3)\n",
    "sim3 = cosine(wd2, wd3)\n",
    "print(sim1, sim2, sim3)"
   ],
   "metadata": {
    "collapsed": false
   }
  },
  {
   "cell_type": "markdown",
   "metadata": {},
   "source": [
    "## Most similar items\n",
    "floret -> get_nearest_neighbors"
   ]
  },
  {
   "cell_type": "code",
   "execution_count": 4,
   "metadata": {
    "pycharm": {
     "is_executing": true
    }
   },
   "outputs": [
    {
     "data": {
      "text/plain": [
       "[(0.7813050150871277, 'Magyarországé'),\n",
       " (0.7762925624847412, 'Magyarországön'),\n",
       " (0.7649583220481873, 'Magyarországa'),\n",
       " (0.7624815702438354, 'Magyarországig'),\n",
       " (0.7506111264228821, 'Magyarországi'),\n",
       " (0.75035160779953, 'Magyarországnyi'),\n",
       " (0.7415648698806763, 'Magyarországának'),\n",
       " (0.736070990562439, 'Délmagyarországi'),\n",
       " (0.7340536713600159, 'Délmagyarország'),\n",
       " (0.7330708503723145, 'Magyarországnál')]"
      ]
     },
     "execution_count": 4,
     "metadata": {},
     "output_type": "execute_result"
    }
   ],
   "source": [
    "model_fl.get_nearest_neighbors(\"Magyarorszag\")"
   ]
  },
  {
   "cell_type": "markdown",
   "source": [
    "## Analogies"
   ],
   "metadata": {
    "collapsed": false
   }
  },
  {
   "cell_type": "code",
   "execution_count": 4,
   "metadata": {},
   "outputs": [
    {
     "data": {
      "text/plain": "[(0.7659695744514465, 'Poroszország'),\n (0.7605623006820679, 'Tótország'),\n (0.7517486214637756, 'Cukorország'),\n (0.748487651348114, 'Sohaország'),\n (0.733657956123352, 'Hátország'),\n (0.7332642674446106, 'Németországnak'),\n (0.7276715636253357, 'Bolgárország'),\n (0.7275689244270325, 'anyaország'),\n (0.7255746722221375, 'Írország'),\n (0.7250489592552185, 'Szászország')]"
     },
     "execution_count": 4,
     "metadata": {},
     "output_type": "execute_result"
    }
   ],
   "source": [
    "model_fl.get_analogies(\"Magyarország\", \"Budapest\", \"Németország\")"
   ]
  },
  {
   "cell_type": "markdown",
   "source": [
    "## Odd one out"
   ],
   "metadata": {
    "collapsed": false
   }
  },
  {
   "cell_type": "code",
   "execution_count": 8,
   "outputs": [],
   "source": [
    "wd1 = model_fl.get_word_vector(\"Magyarország\")\n",
    "wd2 = model_fl.get_word_vector(\"Románia\")\n",
    "wd3 = model_fl.get_word_vector(\"Írország\")\n",
    "wd4 = model_fl.get_word_vector(\"Kolumbia\")"
   ],
   "metadata": {
    "collapsed": false
   }
  },
  {
   "cell_type": "code",
   "execution_count": 17,
   "outputs": [
    {
     "name": "stdout",
     "output_type": "stream",
     "text": [
      "3\n"
     ]
    }
   ],
   "source": [
    "mean_v = np.mean(np.asarray([wd1, wd2, wd3, wd4]), axis=0)\n",
    "dists = [abs(cosine(e, mean_v)) for e in [wd1, wd2, wd3, wd4]]\n",
    "mdist = max(dists)\n",
    "midx = dists.index(mdist)\n",
    "print(midx) # -> 3, Kolumbia"
   ],
   "metadata": {
    "collapsed": false
   }
  }
 ],
 "metadata": {
  "kernelspec": {
   "display_name": "Python 3 (ipykernel)",
   "language": "python",
   "name": "python3"
  },
  "language_info": {
   "codemirror_mode": {
    "name": "ipython",
    "version": 3
   },
   "file_extension": ".py",
   "mimetype": "text/x-python",
   "name": "python",
   "nbconvert_exporter": "python",
   "pygments_lexer": "ipython3",
   "version": "3.10.6"
  }
 },
 "nbformat": 4,
 "nbformat_minor": 1
}
