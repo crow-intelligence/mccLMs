{
 "cells": [
  {
   "cell_type": "markdown",
   "source": [
    "# word2vec\n",
    "_*WARNING*_: Uncased model."
   ],
   "metadata": {
    "collapsed": false
   }
  },
  {
   "cell_type": "code",
   "execution_count": 23,
   "outputs": [],
   "source": [
    "import numpy as np\n",
    "from gensim.models import Word2Vec\n",
    "from scipy.spatial.distance import cosine"
   ],
   "metadata": {
    "collapsed": false
   }
  },
  {
   "cell_type": "code",
   "execution_count": 3,
   "outputs": [],
   "source": [
    "model = Word2Vec.load(\"../models/word2vec/huwiki/huwikiw2v.model\")"
   ],
   "metadata": {
    "collapsed": false
   }
  },
  {
   "cell_type": "markdown",
   "source": [
    "## Distance btw words"
   ],
   "metadata": {
    "collapsed": false
   }
  },
  {
   "cell_type": "code",
   "execution_count": 5,
   "outputs": [
    {
     "name": "stdout",
     "output_type": "stream",
     "text": [
      "0.7447610795497894 0.7468229532241821 0.8045070618391037\n"
     ]
    }
   ],
   "source": [
    "wd1 = model.wv[\"konyha\"]\n",
    "wd2 = model.wv[\"nappali\"]\n",
    "wd3 = model.wv[\"kutya\"]\n",
    "\n",
    "sims1 = cosine(wd1, wd2)\n",
    "sims2 = cosine(wd1, wd3)\n",
    "sims3 = cosine(wd2, wd3)\n",
    "\n",
    "print(sims1, sims2, sims3)"
   ],
   "metadata": {
    "collapsed": false
   }
  },
  {
   "cell_type": "markdown",
   "source": [
    "## Most similar n"
   ],
   "metadata": {
    "collapsed": false
   }
  },
  {
   "cell_type": "code",
   "execution_count": 10,
   "outputs": [
    {
     "data": {
      "text/plain": "[('hazánk', 0.6616657376289368),\n ('erdély', 0.6590989828109741),\n ('románia', 0.61936354637146),\n ('ország', 0.6040399074554443),\n ('európa', 0.5911182761192322),\n ('szlovákia', 0.5910746455192566),\n ('ausztria', 0.576702892780304),\n ('magyarországi', 0.5683177709579468),\n ('lengyelország', 0.5544449687004089),\n ('szerbia', 0.550510823726654)]"
     },
     "execution_count": 10,
     "metadata": {},
     "output_type": "execute_result"
    }
   ],
   "source": [
    "model.wv.most_similar(\"magyarország\")"
   ],
   "metadata": {
    "collapsed": false
   }
  },
  {
   "cell_type": "markdown",
   "source": [
    "## Analogies"
   ],
   "metadata": {
    "collapsed": false
   }
  },
  {
   "cell_type": "code",
   "execution_count": 15,
   "outputs": [],
   "source": [
    "def analogy(worda, wordb, wordc):\n",
    "    result = model.wv.most_similar(negative=[worda],\n",
    "                                positive=[wordb, wordc])\n",
    "    return result[0][0]"
   ],
   "metadata": {
    "collapsed": false
   }
  },
  {
   "cell_type": "code",
   "execution_count": 16,
   "outputs": [
    {
     "name": "stdout",
     "output_type": "stream",
     "text": [
      "berlin\n"
     ]
    }
   ],
   "source": [
    "print(analogy(\"magyarország\", \"budapest\", \"németország\"))"
   ],
   "metadata": {
    "collapsed": false
   }
  },
  {
   "cell_type": "code",
   "execution_count": 19,
   "outputs": [
    {
     "name": "stdout",
     "output_type": "stream",
     "text": [
      "ádámnak\n"
     ]
    }
   ],
   "source": [
    "print(analogy(\"istván\", \"istvánnak\", \"ádám\"))"
   ],
   "metadata": {
    "collapsed": false
   }
  },
  {
   "cell_type": "markdown",
   "source": [
    "## Odd one out"
   ],
   "metadata": {
    "collapsed": false
   }
  },
  {
   "cell_type": "code",
   "execution_count": 21,
   "outputs": [],
   "source": [
    "wd1 = model.wv[\"magyarország\"]\n",
    "wd2 = model.wv[\"románia\"]\n",
    "wd3 = model.wv[\"írország\"]\n",
    "wd4 = model.wv[\"kolumbia\"]"
   ],
   "metadata": {
    "collapsed": false
   }
  },
  {
   "cell_type": "code",
   "execution_count": 24,
   "outputs": [
    {
     "name": "stdout",
     "output_type": "stream",
     "text": [
      "3\n"
     ]
    }
   ],
   "source": [
    "mean_v = np.mean(np.asarray([wd1, wd2, wd3, wd4]), axis=0)\n",
    "dists = [abs(cosine(e, mean_v)) for e in [wd1, wd2, wd3, wd4]]\n",
    "mdist = max(dists)\n",
    "midx = dists.index(mdist)\n",
    "print(midx) # -> 3, Kolumbia"
   ],
   "metadata": {
    "collapsed": false
   }
  }
 ],
 "metadata": {
  "kernelspec": {
   "display_name": "Python 3",
   "language": "python",
   "name": "python3"
  },
  "language_info": {
   "codemirror_mode": {
    "name": "ipython",
    "version": 2
   },
   "file_extension": ".py",
   "mimetype": "text/x-python",
   "name": "python",
   "nbconvert_exporter": "python",
   "pygments_lexer": "ipython2",
   "version": "2.7.6"
  }
 },
 "nbformat": 4,
 "nbformat_minor": 0
}
