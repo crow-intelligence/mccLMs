{
 "cells": [
  {
   "cell_type": "markdown",
   "source": [
    "# PMI embedding\n",
    "<a target=\"_blank\" href=\"https://colab.research.google.com/github/crow-intelligence/mccLMs/blob/main/notebooks/mese.ipynb\">\n",
    "  <img src=\"https://colab.research.google.com/assets/colab-badge.svg\" alt=\"Open In Colab\"/>\n",
    "</a>\n",
    "\n",
    "## Setting up the environment"
   ],
   "metadata": {
    "collapsed": false
   }
  },
  {
   "cell_type": "code",
   "execution_count": null,
   "outputs": [],
   "source": [
    "!pip install cython bounter sparsesvd"
   ],
   "metadata": {
    "collapsed": false
   }
  },
  {
   "cell_type": "code",
   "execution_count": null,
   "outputs": [],
   "source": [
    "# runs only on Colab\n",
    "from google.colab import drive\n",
    "\n",
    "drive.mount('/content/gdrive')"
   ],
   "metadata": {
    "collapsed": false
   }
  },
  {
   "cell_type": "markdown",
   "source": [
    "### Importing a custom module\n",
    "#### Local version\n",
    "Don't run this on Colab"
   ],
   "metadata": {
    "collapsed": false
   }
  },
  {
   "cell_type": "code",
   "execution_count": 6,
   "outputs": [],
   "source": [
    "from src.utils.svd_algebra import SVDAlgebra\n",
    "\n",
    "a = SVDAlgebra(\"../data/lm/\")"
   ],
   "metadata": {
    "collapsed": false
   }
  },
  {
   "cell_type": "markdown",
   "source": [
    "#### Colab verison\n",
    "Run this on Colab."
   ],
   "metadata": {
    "collapsed": false
   }
  },
  {
   "cell_type": "code",
   "execution_count": null,
   "outputs": [],
   "source": [
    "import sys\n",
    "sys.path.append(\"/content/gdrive/My Drive/Colab Notebooks/mcc_langmods\")\n",
    "from utils.svd_algebra import SVDAlgebra\n",
    "\n",
    "a = SVDAlgebra(\"/content/gdrive/My Drive/Colab Notebooks/mcc_langmods/pmi/\")"
   ],
   "metadata": {
    "collapsed": false
   }
  },
  {
   "cell_type": "markdown",
   "source": [
    "Egy általunk választott szóhoz keressük a leginkább hasonló szavakat. A zárójelbe beírjuk a szót, mellé egy számot, amennyi hasonló szót keresünk."
   ],
   "metadata": {
    "collapsed": false
   }
  },
  {
   "cell_type": "code",
   "execution_count": 1,
   "outputs": [
    {
     "ename": "NameError",
     "evalue": "name 'a' is not defined",
     "output_type": "error",
     "traceback": [
      "\u001B[1;31m---------------------------------------------------------------------------\u001B[0m",
      "\u001B[1;31mNameError\u001B[0m                                 Traceback (most recent call last)",
      "Cell \u001B[1;32mIn[1], line 1\u001B[0m\n\u001B[1;32m----> 1\u001B[0m \u001B[38;5;28mprint\u001B[39m(\u001B[38;5;124m\"\u001B[39m\u001B[38;5;124mleghasonlóbb üröl:\u001B[39m\u001B[38;5;124m\"\u001B[39m, \u001B[43ma\u001B[49m\u001B[38;5;241m.\u001B[39mmost_similar_n(\u001B[38;5;124m\"\u001B[39m\u001B[38;5;124mörül\u001B[39m\u001B[38;5;124m\"\u001B[39m, \u001B[38;5;241m30\u001B[39m))\n\u001B[0;32m      2\u001B[0m \u001B[38;5;28mprint\u001B[39m(\u001B[38;5;124m\"\u001B[39m\u001B[38;5;124mleghasonlóbb nevet:\u001B[39m\u001B[38;5;124m\"\u001B[39m, a\u001B[38;5;241m.\u001B[39mmost_similar_n(\u001B[38;5;124m\"\u001B[39m\u001B[38;5;124mnevet\u001B[39m\u001B[38;5;124m\"\u001B[39m, \u001B[38;5;241m30\u001B[39m))\n\u001B[0;32m      3\u001B[0m \u001B[38;5;28mprint\u001B[39m(\u001B[38;5;124m\"\u001B[39m\u001B[38;5;124mleghasonlóbb szerelem:\u001B[39m\u001B[38;5;124m\"\u001B[39m, a\u001B[38;5;241m.\u001B[39mmost_similar_n(\u001B[38;5;124m\"\u001B[39m\u001B[38;5;124mszerelem\u001B[39m\u001B[38;5;124m\"\u001B[39m, \u001B[38;5;241m30\u001B[39m))\n",
      "\u001B[1;31mNameError\u001B[0m: name 'a' is not defined"
     ]
    }
   ],
   "source": [
    "print(\"leghasonlóbb üröl:\", a.most_similar_n(\"örül\", 30))"
   ],
   "metadata": {
    "collapsed": false
   }
  },
  {
   "cell_type": "code",
   "execution_count": null,
   "outputs": [],
   "source": [
    "print(\"leghasonlóbb nevet:\", a.most_similar_n(\"nevet\", 30))"
   ],
   "metadata": {
    "collapsed": false
   }
  },
  {
   "cell_type": "code",
   "execution_count": null,
   "outputs": [],
   "source": [
    "print(\"leghasonlóbb szerelem:\", a.most_similar_n(\"szerelem\", 30))"
   ],
   "metadata": {
    "collapsed": false
   }
  },
  {
   "cell_type": "code",
   "execution_count": null,
   "outputs": [],
   "source": [
    "print(\"leghasonlóbb vigasság:\", a.most_similar_n(\"vigasság\", 30))"
   ],
   "metadata": {
    "collapsed": false
   }
  },
  {
   "cell_type": "code",
   "execution_count": null,
   "outputs": [],
   "source": [
    "print(\"leghasonlóbb kacag:\", a.most_similar_n(\"kacag\", 30))"
   ],
   "metadata": {
    "collapsed": false
   }
  },
  {
   "cell_type": "markdown",
   "source": [
    "Általunk választott két szó közötti távolságra vagyunk kiváncsiak. Egy 0-1 közötti számot kapunk. Minél kisebb a szám, annál közelebb van egymáshoz a két szó."
   ],
   "metadata": {
    "collapsed": false
   }
  },
  {
   "cell_type": "code",
   "execution_count": null,
   "outputs": [],
   "source": [
    "print(a.distance(\"csúf\", \"halál\"))"
   ],
   "metadata": {
    "collapsed": false
   }
  },
  {
   "cell_type": "code",
   "execution_count": null,
   "outputs": [],
   "source": [
    "print(a.distance(\"csúf\", \"banya\"))"
   ],
   "metadata": {
    "collapsed": false
   }
  },
  {
   "cell_type": "code",
   "execution_count": null,
   "outputs": [],
   "source": [
    "print(a.distance(\"csúf\", \"királykisasszony\"))"
   ],
   "metadata": {
    "collapsed": false
   }
  },
  {
   "cell_type": "code",
   "execution_count": null,
   "outputs": [],
   "source": [
    "print(a.distance(\"csúf\", \"szép\"))"
   ],
   "metadata": {
    "collapsed": false
   }
  },
  {
   "cell_type": "markdown",
   "source": [
    "A nyelvmodellünket analógiás \"gondolkodásra\" tanítjuk. Egy példán kersztül megtanítjuk neki, hogy milyen kapcsolatra vagyunk kíváncsiak. Ezután adunk neki egy szót, hogy megnézzük, megtanulta-e a kapcsolatot, illetve, hogy szerinte ez a kapcsolat milyen szót eredményez."
   ],
   "metadata": {
    "collapsed": false
   }
  },
  {
   "cell_type": "code",
   "execution_count": null,
   "outputs": [],
   "source": [
    "print(a.similar([\"sír\", \"szomorú\"], \"nevet\", topn=5))"
   ],
   "metadata": {
    "collapsed": false
   }
  },
  {
   "cell_type": "markdown",
   "source": [
    "A nyelvmodellünket kakukktojás keresésre tanítjuk. Megadunk neki összeillő szavakat, amelyek közé egy oda nem illő szót keverünk és várjuk, hogy megtalálja."
   ],
   "metadata": {
    "collapsed": false
   }
  },
  {
   "cell_type": "code",
   "execution_count": null,
   "outputs": [],
   "source": [
    "print(a.doesnt_match([\"sír\", \"keserves\", \"bánat\", \"nevet\"]))"
   ],
   "metadata": {
    "collapsed": false
   }
  },
  {
   "cell_type": "code",
   "execution_count": null,
   "outputs": [],
   "source": [
    "print(a.doesnt_match([\"sír\", \"keserves\", \"bánat\", \"leány\"]))"
   ],
   "metadata": {
    "collapsed": false
   }
  },
  {
   "cell_type": "code",
   "execution_count": null,
   "outputs": [],
   "source": [
    "print(a.doesnt_match([\"sír\", \"keserves\", \"bánat\", \"legény\"]))"
   ],
   "metadata": {
    "collapsed": false
   }
  }
 ],
 "metadata": {
  "kernelspec": {
   "display_name": "Python 3",
   "language": "python",
   "name": "python3"
  },
  "language_info": {
   "codemirror_mode": {
    "name": "ipython",
    "version": 2
   },
   "file_extension": ".py",
   "mimetype": "text/x-python",
   "name": "python",
   "nbconvert_exporter": "python",
   "pygments_lexer": "ipython2",
   "version": "2.7.6"
  }
 },
 "nbformat": 4,
 "nbformat_minor": 0
}
