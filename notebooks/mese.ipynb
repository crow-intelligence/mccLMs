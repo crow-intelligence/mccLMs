{
 "cells": [
  {
   "cell_type": "markdown",
   "source": [
    "# PMI embedding\n",
    "<a target=\"_blank\" href=\"https://colab.research.google.com/github/crow-intelligence/mccLMs/blob/main/notebooks/mese.ipynb\">\n",
    "  <img src=\"https://colab.research.google.com/assets/colab-badge.svg\" alt=\"Open In Colab\"/>\n",
    "</a>\n",
    "\n",
    "## Setting up the environment"
   ],
   "metadata": {
    "collapsed": false
   }
  },
  {
   "cell_type": "code",
   "execution_count": null,
   "outputs": [],
   "source": [
    "!pip install cython bounter sparsesvd"
   ],
   "metadata": {
    "collapsed": false
   }
  },
  {
   "cell_type": "code",
   "execution_count": null,
   "outputs": [],
   "source": [
    "# runs only on Colab\n",
    "from google.colab import drive\n",
    "\n",
    "drive.mount('/content/gdrive')"
   ],
   "metadata": {
    "collapsed": false
   }
  },
  {
   "cell_type": "markdown",
   "source": [
    "### Importing a custom module\n",
    "#### Local version\n",
    "Don't run this on Colab"
   ],
   "metadata": {
    "collapsed": false
   }
  },
  {
   "cell_type": "code",
   "execution_count": 8,
   "outputs": [],
   "source": [
    "from src.utils.svd_algebra import SVDAlgebra\n",
    "\n",
    "a = SVDAlgebra(\"../data/lm/\")"
   ],
   "metadata": {
    "collapsed": false
   }
  },
  {
   "cell_type": "markdown",
   "source": [
    "#### Colab verison\n",
    "Run this on Colab."
   ],
   "metadata": {
    "collapsed": false
   }
  },
  {
   "cell_type": "code",
   "execution_count": null,
   "outputs": [],
   "source": [
    "import sys\n",
    "sys.path.append(\"/content/gdrive/My Drive/Colab Notebooks/mcc_langmods\")\n",
    "from utils.svd_algebra import SVDAlgebra\n",
    "\n",
    "a = SVDAlgebra(\"/content/gdrive/My Drive/Colab Notebooks/mcc_langmods/pmi/\")"
   ],
   "metadata": {
    "collapsed": false
   }
  },
  {
   "cell_type": "markdown",
   "source": [
    "## Similarity == hasonló szavak\n",
    "Egy általunk választott szóhoz keressük a leginkább hasonló szavakat. A `most_similar` függvényben zárójelbe beírjuk a szót (azaz megadjuk az argumentumát), mellé egy számot, amennyi hasonló szót keresünk."
   ],
   "metadata": {
    "collapsed": false
   }
  },
  {
   "cell_type": "code",
   "execution_count": 22,
   "outputs": [
    {
     "name": "stdout",
     "output_type": "stream",
     "text": [
      "leghasonlóbb üröl: ['nagyon', 'marad', 'tapló', 'király', 'anya', 'mindig', 'közé', 'mindenféle', 'sárga', 'acél', 'erős', 'kova', 'inkább', 'rajta', 'bánat', 'közül', 'esik', 'medve', 'annyira', 'hogy', 'édes', 'majd', 'lehet', 'öreg', 'szem', 'mikor', 'szegény', 'taplógomba', 'szív']\n"
     ]
    }
   ],
   "source": [
    "print(\"leghasonlóbb üröl:\", a.most_similar_n(\"örül\", 30))"
   ],
   "metadata": {
    "collapsed": false
   }
  },
  {
   "cell_type": "code",
   "execution_count": 10,
   "outputs": [
    {
     "name": "stdout",
     "output_type": "stream",
     "text": [
      "leghasonlóbb nevet: ['oszt', 'nagyon', 'szem', 'másik', 'rózsa', 'embör', 'fehér', 'elkezd', 'sárga', 'szerint', 'piros', 'osztán', 'alig', 'könny', 'mikó', 'mégis', 'királ', 'hullik', 'arcz', 'végig', 'cigán', 'alatt', 'gyöngy', 'buda', 'bemönt', 'közt', 'szögény', 'keserves']\n"
     ]
    }
   ],
   "source": [
    "print(\"leghasonlóbb nevet:\", a.most_similar_n(\"nevet\", 30))"
   ],
   "metadata": {
    "collapsed": false
   }
  },
  {
   "cell_type": "code",
   "execution_count": 11,
   "outputs": [
    {
     "name": "stdout",
     "output_type": "stream",
     "text": [
      "leghasonlóbb szerelem: ['szív', 'ékes', 'monda', 'miklós', 'sziv', 'tüstént', 'szinte', 'kellős', 'miatt', 'azonnal', 'közép', 'szép', 'tündérszép', 'mindaddig', 'kivánság', 'szive', 'hideg', 'gavallér', 'virág', 'azért', 'mondván', 'virágos', 'ilona', 'milyen', 'kiss', 'egészen', 'édes', 'szivem', 'személy', 'herczeg']\n"
     ]
    }
   ],
   "source": [
    "print(\"leghasonlóbb szerelem:\", a.most_similar_n(\"szerelem\", 30))"
   ],
   "metadata": {
    "collapsed": false
   }
  },
  {
   "cell_type": "code",
   "execution_count": 12,
   "outputs": [
    {
     "name": "stdout",
     "output_type": "stream",
     "text": [
      "leghasonlóbb vigasság: ['változik', 'palota', 'csap', 'lakodalom', 'álló', 'folyik', 'muzsika', 'szóló', 'hejehuja', 'tánc', 'dínomdán', 'azután', 'nagy', 'fiatal', 'zeng', 'mindenféle', 'dínomdánom', 'boncida', 'banda', 'összeesket', 'vendégség', 'megesket', 'esztende', 'vígság', 'hencida', 'dáridó', 'boncidáig', 'összead', 'egyszeriben', 'vígasság']\n"
     ]
    }
   ],
   "source": [
    "print(\"leghasonlóbb vigasság:\", a.most_similar_n(\"vigasság\", 30))"
   ],
   "metadata": {
    "collapsed": false
   }
  },
  {
   "cell_type": "code",
   "execution_count": 13,
   "outputs": [
    {
     "name": "stdout",
     "output_type": "stream",
     "text": [
      "leghasonlóbb kacag: ['belé', 'akkora', 'gyerek', 'szinte', 'tető', 'kezd', 'zeng', 'ostor', 'bűbájos', 'ember', 'reng', 'elkezd', 'nagy', 'királykisasszony', 'amikor', 'egész', 'megzendül', 'egészen', 'jános', 'hirtelen', 'medve', 'cseng', 'megrendül', 'rittyent', 'óriás', 'keserves', 'hangos', 'tánc', 'rajta']\n"
     ]
    }
   ],
   "source": [
    "print(\"leghasonlóbb kacag:\", a.most_similar_n(\"kacag\", 30))"
   ],
   "metadata": {
    "collapsed": false
   }
  },
  {
   "cell_type": "markdown",
   "source": [
    "## Distance == távolság két általunk választott szó között\n",
    "Általunk választott két szó közötti távolságra vagyunk kiváncsiak. Egy 0-1 közötti számot kapunk. Minél kisebb a szám, annál közelebb van egymáshoz a két szó."
   ],
   "metadata": {
    "collapsed": false
   }
  },
  {
   "cell_type": "code",
   "execution_count": 14,
   "outputs": [
    {
     "name": "stdout",
     "output_type": "stream",
     "text": [
      "0.3388706445078119\n"
     ]
    }
   ],
   "source": [
    "print(a.distance(\"csúf\", \"halál\"))"
   ],
   "metadata": {
    "collapsed": false
   }
  },
  {
   "cell_type": "code",
   "execution_count": 15,
   "outputs": [
    {
     "name": "stdout",
     "output_type": "stream",
     "text": [
      "0.869749966119296\n"
     ]
    }
   ],
   "source": [
    "print(a.distance(\"csúf\", \"banya\"))"
   ],
   "metadata": {
    "collapsed": false
   }
  },
  {
   "cell_type": "code",
   "execution_count": 16,
   "outputs": [
    {
     "name": "stdout",
     "output_type": "stream",
     "text": [
      "1.0\n"
     ]
    }
   ],
   "source": [
    "print(a.distance(\"csúf\", \"királykisasszony\"))"
   ],
   "metadata": {
    "collapsed": false
   }
  },
  {
   "cell_type": "code",
   "execution_count": 17,
   "outputs": [
    {
     "name": "stdout",
     "output_type": "stream",
     "text": [
      "0.9915369308231862\n"
     ]
    }
   ],
   "source": [
    "print(a.distance(\"csúf\", \"szép\"))"
   ],
   "metadata": {
    "collapsed": false
   }
  },
  {
   "cell_type": "markdown",
   "source": [
    "## Analógiák\n",
    "Arra vagyunk kíváncsiak, hogy a nyelvmodellünk tud-e analógiásan \"gondolkodni\". A `similar` függvénynek három bemenete (argumentuma) van. Az első példa egy lista, ami egy analógiás szópár, a második példa egy szó, aminek az analógiás párját várjuk."
   ],
   "metadata": {
    "collapsed": false
   }
  },
  {
   "cell_type": "code",
   "execution_count": 18,
   "outputs": [
    {
     "name": "stdout",
     "output_type": "stream",
     "text": [
      "['oszt', 'terem', 'fehér', 'óriás', 'támad']\n"
     ]
    }
   ],
   "source": [
    "print(a.similar([\"sír\", \"szomorú\"], \"nevet\", topn=5))"
   ],
   "metadata": {
    "collapsed": false
   }
  },
  {
   "cell_type": "markdown",
   "source": [
    "## Kakukktojás\n",
    "A nyelvmodellünket kakukktojás keresésre kérjük. Megadunk neki összeillő szavakat, amelyek közé egy oda nem illő szót keverünk és várjuk, hogy megtalálja."
   ],
   "metadata": {
    "collapsed": false
   }
  },
  {
   "cell_type": "code",
   "execution_count": 19,
   "outputs": [
    {
     "name": "stdout",
     "output_type": "stream",
     "text": [
      "nevet\n"
     ]
    },
    {
     "name": "stderr",
     "output_type": "stream",
     "text": [
      "/home/zoltanvarju/PycharmProjects/mccLangMods/src/utils/svd_algebra.py:164: FutureWarning: arrays to stack must be passed as a \"sequence\" type such as list or tuple. Support for non-sequence iterables such as generators is deprecated as of NumPy 1.16 and will raise an error in the future.\n",
      "  word_vectors = np.vstack(self.U[i] for i in word_idxs)\n"
     ]
    }
   ],
   "source": [
    "print(a.doesnt_match([\"sír\", \"keserves\", \"bánat\", \"nevet\"]))"
   ],
   "metadata": {
    "collapsed": false
   }
  },
  {
   "cell_type": "code",
   "execution_count": 20,
   "outputs": [
    {
     "name": "stdout",
     "output_type": "stream",
     "text": [
      "bánat\n"
     ]
    }
   ],
   "source": [
    "print(a.doesnt_match([\"sír\", \"keserves\", \"bánat\", \"leány\"]))"
   ],
   "metadata": {
    "collapsed": false
   }
  },
  {
   "cell_type": "code",
   "execution_count": 21,
   "outputs": [
    {
     "name": "stdout",
     "output_type": "stream",
     "text": [
      "legény\n"
     ]
    }
   ],
   "source": [
    "print(a.doesnt_match([\"sír\", \"keserves\", \"bánat\", \"legény\"]))"
   ],
   "metadata": {
    "collapsed": false
   }
  },
  {
   "cell_type": "markdown",
   "source": [
    "## Mikor érdemes használni a kölcsönös információn alapuló nyelvmodelleket?\n",
    "+ viszonylag kis korpuszunk van\n",
    "+ inkább a szemantikai viszonyokra vagyunk kíváncsiak\n",
    "+ hagyományosan korpusznyelvészeti elemzéseknél használjuk és nem\n",
    "automatizált\n",
    "+ a nagy nyelvmodellek kiértékelési módszerein gyengén szerepel"
   ],
   "metadata": {
    "collapsed": false
   }
  },
  {
   "cell_type": "markdown",
   "source": [],
   "metadata": {
    "collapsed": false
   }
  }
 ],
 "metadata": {
  "kernelspec": {
   "display_name": "Python 3",
   "language": "python",
   "name": "python3"
  },
  "language_info": {
   "codemirror_mode": {
    "name": "ipython",
    "version": 2
   },
   "file_extension": ".py",
   "mimetype": "text/x-python",
   "name": "python",
   "nbconvert_exporter": "python",
   "pygments_lexer": "ipython2",
   "version": "2.7.6"
  }
 },
 "nbformat": 4,
 "nbformat_minor": 0
}
